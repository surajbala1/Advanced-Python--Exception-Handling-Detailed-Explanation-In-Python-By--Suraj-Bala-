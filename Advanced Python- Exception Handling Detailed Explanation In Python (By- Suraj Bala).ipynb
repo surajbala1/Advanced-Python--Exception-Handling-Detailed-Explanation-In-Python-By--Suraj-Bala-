{
 "cells": [
  {
   "cell_type": "markdown",
   "id": "5933c406",
   "metadata": {},
   "source": [
    "## Python Exception Handling"
   ]
  },
  {
   "cell_type": "markdown",
   "id": "03b39e5e",
   "metadata": {},
   "source": [
    "An exception is an event, which occurs during the execution of a program that disrupts the normal flow of the program's instructions. In general, when a Python script encounters a situation that it cannot cope with, it raises an exception. An exception is a Python object that represents an error"
   ]
  },
  {
   "cell_type": "markdown",
   "id": "2f5e9308",
   "metadata": {},
   "source": [
    "### What is the bsic diffrence between Error and Exception"
   ]
  },
  {
   "cell_type": "markdown",
   "id": "bf8fd4ad",
   "metadata": {},
   "source": [
    "Errors cannot be handled, while Python exceptions can be handled at the run time. An error can be a syntax (parsing) error, while there can be many types of exceptions that could occur during the execution and are not unconditionally inoperable"
   ]
  },
  {
   "cell_type": "code",
   "execution_count": 8,
   "id": "968d0c15",
   "metadata": {},
   "outputs": [
    {
     "name": "stdout",
     "output_type": "stream",
     "text": [
      "unsupported operand type(s) for +: 'int' and 'str'\n"
     ]
    }
   ],
   "source": [
    "try:\n",
    "    # code block where exception can occur\n",
    "    a=1\n",
    "    b=\"S\"\n",
    "    c=a+b\n",
    "    # for exact exception we can use below code (Exception)\n",
    "except NameError as ex1:\n",
    "    print(\"The user have not defined the variable\")\n",
    "except Exception as ex:\n",
    "    print(ex)"
   ]
  },
  {
   "cell_type": "code",
   "execution_count": 9,
   "id": "06dafc00",
   "metadata": {},
   "outputs": [
    {
     "name": "stdout",
     "output_type": "stream",
     "text": [
      "Try to make the data type similar\n"
     ]
    }
   ],
   "source": [
    "try:\n",
    "    # code block where exception can occur\n",
    "    a=1\n",
    "    b=\"S\"\n",
    "    c=a+b\n",
    "    # for exact exception we can use below code (Exception)\n",
    "except NameError:\n",
    "    print(\"The user have not defined the variable\")\n",
    "except TypeError:\n",
    "    print(\"Try to make the data type similar\")\n",
    "except Exception as ex:\n",
    "    print(ex)"
   ]
  },
  {
   "cell_type": "code",
   "execution_count": 10,
   "id": "f98b888a",
   "metadata": {},
   "outputs": [
    {
     "name": "stdout",
     "output_type": "stream",
     "text": [
      "Enter the number 1 1\n",
      "Enter the number 2 1\n",
      "1.0\n",
      "1\n",
      "2\n"
     ]
    }
   ],
   "source": [
    "try:\n",
    "    # code block where exception can occur\n",
    "    a=int(input(\"Enter the number 1 \"))\n",
    "    b=int(input(\"Enter the number 2 \"))\n",
    "    c=a/b\n",
    "    d=a*b\n",
    "    e=a+b\n",
    "    print(c)\n",
    "    print(d)\n",
    "    print(e)\n",
    "    # for exact exception we can use below code (Exception)\n",
    "except NameError:\n",
    "    print(\"The user have not defined the variable\")\n",
    "except TypeError:\n",
    "    print(\"Try to make the data type similar\")\n",
    "except ZeroDivisionError:\n",
    "    print(\"Please enter number > 0 \")\n",
    "except Exception as ex:\n",
    "    print(ex)"
   ]
  },
  {
   "cell_type": "code",
   "execution_count": 11,
   "id": "832cb2a8",
   "metadata": {},
   "outputs": [
    {
     "name": "stdout",
     "output_type": "stream",
     "text": [
      "Enter the number 1 1\n",
      "Enter the number 2 2\n",
      "0.5\n",
      "2\n",
      "3\n"
     ]
    }
   ],
   "source": [
    "# try else block\n",
    "try:\n",
    "    # code block where exception can occur\n",
    "    a=int(input(\"Enter the number 1 \"))\n",
    "    b=int(input(\"Enter the number 2 \"))\n",
    "    c=a/b\n",
    "    d=a*b\n",
    "    e=a+b\n",
    "    # for exact exception we can use below code (Exception)\n",
    "    # Here if except get trigger then Else block will not execute over there, if not trigger then it will execute\n",
    "except NameError:\n",
    "    print(\"The user have not defined the variable\")\n",
    "except TypeError:\n",
    "    print(\"Try to make the data type similar\")\n",
    "except ZeroDivisionError:\n",
    "    print(\"Please enter number > 0 \")\n",
    "except Exception as ex:\n",
    "    print(ex)\n",
    "else:\n",
    "    print(c)\n",
    "    print(d)\n",
    "    print(e)"
   ]
  },
  {
   "cell_type": "code",
   "execution_count": 12,
   "id": "ff00ebb5",
   "metadata": {},
   "outputs": [
    {
     "name": "stdout",
     "output_type": "stream",
     "text": [
      "Enter the number 1 1\n",
      "Enter the number 2 2\n",
      "0.5\n",
      "The execution is done\n"
     ]
    }
   ],
   "source": [
    "# try, else, finally\n",
    "try:\n",
    "    # code block where exception can occur\n",
    "    a=int(input(\"Enter the number 1 \"))\n",
    "    b=int(input(\"Enter the number 2 \"))\n",
    "    c=a/b\n",
    "    # for exact exception we can use below code (Exception)\n",
    "    # Here if except get trigger then Else block will not execute over there, if not trigger then it will execute\n",
    "except NameError:\n",
    "    print(\"The user have not defined the variable\")\n",
    "except TypeError:\n",
    "    print(\"Try to make the data type similar\")\n",
    "except ZeroDivisionError:\n",
    "    print(\"Please enter number > 0 \")\n",
    "except Exception as ex:\n",
    "    print(ex)\n",
    "else: # Here else is not executing due to excetion\n",
    "    print(c)\n",
    "finally:\n",
    "    print(\"The execution is done\")"
   ]
  },
  {
   "cell_type": "markdown",
   "id": "355e7cd6",
   "metadata": {},
   "source": [
    "## Advanced Python Series- Custom Exception Handling In Python"
   ]
  },
  {
   "cell_type": "code",
   "execution_count": 13,
   "id": "b13121ff",
   "metadata": {},
   "outputs": [],
   "source": [
    "# let's create new class\n",
    "class Error(Exception):\n",
    "    pass\n",
    "class dobException(Error):\n",
    "    pass"
   ]
  },
  {
   "cell_type": "code",
   "execution_count": 14,
   "id": "97469d54",
   "metadata": {},
   "outputs": [
    {
     "name": "stdout",
     "output_type": "stream",
     "text": [
      "Enter the year of Birth 1\n",
      "The year range is not valid, you can't apply for the exam\n"
     ]
    }
   ],
   "source": [
    "year=int(input(\"Enter the year of Birth \"))\n",
    "age=2020-year\n",
    "try:\n",
    "    if age<=30 and age>20:\n",
    "        print(\"The age is valid, you can apply for the exam\")\n",
    "    else:\n",
    "        raise dobException\n",
    "except dobException:\n",
    "    print(\"The year range is not valid, you can't apply for the exam\")"
   ]
  },
  {
   "cell_type": "code",
   "execution_count": null,
   "id": "4b548a96",
   "metadata": {},
   "outputs": [],
   "source": []
  }
 ],
 "metadata": {
  "kernelspec": {
   "display_name": "Python 3 (ipykernel)",
   "language": "python",
   "name": "python3"
  },
  "language_info": {
   "codemirror_mode": {
    "name": "ipython",
    "version": 3
   },
   "file_extension": ".py",
   "mimetype": "text/x-python",
   "name": "python",
   "nbconvert_exporter": "python",
   "pygments_lexer": "ipython3",
   "version": "3.9.12"
  }
 },
 "nbformat": 4,
 "nbformat_minor": 5
}
